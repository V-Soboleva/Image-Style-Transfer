{
  "nbformat": 4,
  "nbformat_minor": 0,
  "metadata": {
    "colab": {
      "name": "Копия Style_transfer_train.ipynb",
      "provenance": [],
      "collapsed_sections": [],
      "toc_visible": true
    },
    "kernelspec": {
      "name": "python3",
      "display_name": "Python 3"
    },
    "accelerator": "GPU"
  },
  "cells": [
    {
      "cell_type": "code",
      "metadata": {
        "id": "AGnMfY3HDdhz",
        "colab": {
          "base_uri": "https://localhost:8080/",
          "height": 190
        },
        "outputId": "391623c2-02a8-4091-8700-bde465ea86fb"
      },
      "source": [
        "!pip install tensorboardX"
      ],
      "execution_count": null,
      "outputs": [
        {
          "output_type": "stream",
          "text": [
            "Collecting tensorboardX\n",
            "\u001b[?25l  Downloading https://files.pythonhosted.org/packages/35/f1/5843425495765c8c2dd0784a851a93ef204d314fc87bcc2bbb9f662a3ad1/tensorboardX-2.0-py2.py3-none-any.whl (195kB)\n",
            "\r\u001b[K     |█▊                              | 10kB 27.7MB/s eta 0:00:01\r\u001b[K     |███▍                            | 20kB 28.3MB/s eta 0:00:01\r\u001b[K     |█████                           | 30kB 32.1MB/s eta 0:00:01\r\u001b[K     |██████▊                         | 40kB 24.7MB/s eta 0:00:01\r\u001b[K     |████████▍                       | 51kB 14.0MB/s eta 0:00:01\r\u001b[K     |██████████                      | 61kB 12.1MB/s eta 0:00:01\r\u001b[K     |███████████▊                    | 71kB 11.7MB/s eta 0:00:01\r\u001b[K     |█████████████▍                  | 81kB 11.6MB/s eta 0:00:01\r\u001b[K     |███████████████                 | 92kB 11.6MB/s eta 0:00:01\r\u001b[K     |████████████████▊               | 102kB 11.1MB/s eta 0:00:01\r\u001b[K     |██████████████████▍             | 112kB 11.1MB/s eta 0:00:01\r\u001b[K     |████████████████████            | 122kB 11.1MB/s eta 0:00:01\r\u001b[K     |█████████████████████▊          | 133kB 11.1MB/s eta 0:00:01\r\u001b[K     |███████████████████████▌        | 143kB 11.1MB/s eta 0:00:01\r\u001b[K     |█████████████████████████▏      | 153kB 11.1MB/s eta 0:00:01\r\u001b[K     |██████████████████████████▉     | 163kB 11.1MB/s eta 0:00:01\r\u001b[K     |████████████████████████████▌   | 174kB 11.1MB/s eta 0:00:01\r\u001b[K     |██████████████████████████████▏ | 184kB 11.1MB/s eta 0:00:01\r\u001b[K     |███████████████████████████████▉| 194kB 11.1MB/s eta 0:00:01\r\u001b[K     |████████████████████████████████| 204kB 11.1MB/s \n",
            "\u001b[?25hRequirement already satisfied: protobuf>=3.8.0 in /usr/local/lib/python3.6/dist-packages (from tensorboardX) (3.10.0)\n",
            "Requirement already satisfied: six in /usr/local/lib/python3.6/dist-packages (from tensorboardX) (1.12.0)\n",
            "Requirement already satisfied: numpy in /usr/local/lib/python3.6/dist-packages (from tensorboardX) (1.18.4)\n",
            "Requirement already satisfied: setuptools in /usr/local/lib/python3.6/dist-packages (from protobuf>=3.8.0->tensorboardX) (46.1.3)\n",
            "Installing collected packages: tensorboardX\n",
            "Successfully installed tensorboardX-2.0\n"
          ],
          "name": "stdout"
        }
      ]
    },
    {
      "cell_type": "code",
      "metadata": {
        "id": "7Ay5SBnBCAll"
      },
      "source": [
        "from pathlib import Path\n",
        "\n",
        "import numpy as np\n",
        "import torch\n",
        "import torch.backends.cudnn as cudnn\n",
        "import torch.nn as nn\n",
        "import torch.utils.data as data\n",
        "from PIL import Image, ImageFile\n",
        "from tensorboardX import SummaryWriter\n",
        "from torchvision import transforms\n",
        "from tqdm import tqdm\n",
        "\n",
        "\n",
        "cudnn.benchmark = True\n",
        "Image.MAX_IMAGE_PIXELS = None  # Disable DecompressionBombError\n",
        "# Disable OSError: image file is truncated\n",
        "ImageFile.LOAD_TRUNCATED_IMAGES = True\n",
        "\n",
        "device = torch.device('cuda')"
      ],
      "execution_count": null,
      "outputs": []
    },
    {
      "cell_type": "code",
      "metadata": {
        "id": "UgCIKqfKIXUH",
        "colab": {
          "base_uri": "https://localhost:8080/",
          "height": 122
        },
        "outputId": "21e9fbf5-5d87-43d5-c390-b048258b54d3"
      },
      "source": [
        "from google.colab import drive\n",
        "drive.mount('/content/drive')"
      ],
      "execution_count": null,
      "outputs": [
        {
          "output_type": "stream",
          "text": [
            "Go to this URL in a browser: https://accounts.google.com/o/oauth2/auth?client_id=947318989803-6bn6qk8qdgf4n4g3pfee6491hc0brc4i.apps.googleusercontent.com&redirect_uri=urn%3aietf%3awg%3aoauth%3a2.0%3aoob&response_type=code&scope=email%20https%3a%2f%2fwww.googleapis.com%2fauth%2fdocs.test%20https%3a%2f%2fwww.googleapis.com%2fauth%2fdrive%20https%3a%2f%2fwww.googleapis.com%2fauth%2fdrive.photos.readonly%20https%3a%2f%2fwww.googleapis.com%2fauth%2fpeopleapi.readonly\n",
            "\n",
            "Enter your authorization code:\n",
            "··········\n",
            "Mounted at /content/drive\n"
          ],
          "name": "stdout"
        }
      ]
    },
    {
      "cell_type": "code",
      "metadata": {
        "id": "vV-fZe_XIgOZ",
        "colab": {
          "base_uri": "https://localhost:8080/",
          "height": 527
        },
        "outputId": "34a6e717-360a-4b54-fc6c-87993e489fae"
      },
      "source": [
        "!ls drive/'My Drive'/models"
      ],
      "execution_count": null,
      "outputs": [
        {
          "output_type": "stream",
          "text": [
            "decoder_iter_100000.pth.tar  decoder_iter_48000.pth.tar\n",
            "decoder_iter_10000.pth.tar   decoder_iter_50000.pth.tar\n",
            "decoder_iter_102000.pth.tar  decoder_iter_52000.pth.tar\n",
            "decoder_iter_104000.pth.tar  decoder_iter_54000.pth.tar\n",
            "decoder_iter_106000.pth.tar  decoder_iter_56000.pth.tar\n",
            "decoder_iter_108000.pth.tar  decoder_iter_58000.pth.tar\n",
            "decoder_iter_110000.pth.tar  decoder_iter_60000.pth.tar\n",
            "decoder_iter_112000.pth.tar  decoder_iter_6000.pth.tar\n",
            "decoder_iter_114000.pth.tar  decoder_iter_62000.pth.tar\n",
            "decoder_iter_116000.pth.tar  decoder_iter_64000.pth.tar\n",
            "decoder_iter_12000.pth.tar   decoder_iter_66000.pth.tar\n",
            "decoder_iter_14000.pth.tar   decoder_iter_68000.pth.tar\n",
            "decoder_iter_16000.pth.tar   decoder_iter_70000.pth.tar\n",
            "decoder_iter_18000.pth.tar   decoder_iter_72000.pth.tar\n",
            "decoder_iter_20000.pth.tar   decoder_iter_74000.pth.tar\n",
            "decoder_iter_2000.pth.tar    decoder_iter_76000.pth.tar\n",
            "decoder_iter_22000.pth.tar   decoder_iter_78000.pth.tar\n",
            "decoder_iter_24000.pth.tar   decoder_iter_80000.pth.tar\n",
            "decoder_iter_26000.pth.tar   decoder_iter_8000.pth.tar\n",
            "decoder_iter_28000.pth.tar   decoder_iter_82000.pth.tar\n",
            "decoder_iter_30000.pth.tar   decoder_iter_84000.pth.tar\n",
            "decoder_iter_32000.pth.tar   decoder_iter_86000.pth.tar\n",
            "decoder_iter_34000.pth.tar   decoder_iter_88000.pth.tar\n",
            "decoder_iter_36000.pth.tar   decoder_iter_90000.pth.tar\n",
            "decoder_iter_38000.pth.tar   decoder_iter_92000.pth.tar\n",
            "decoder_iter_40000.pth.tar   decoder_iter_94000.pth.tar\n",
            "decoder_iter_4000.pth.tar    decoder_iter_96000.pth.tar\n",
            "decoder_iter_42000.pth.tar   decoder_iter_98000.pth.tar\n",
            "decoder_iter_44000.pth.tar   small_dataset_models\n",
            "decoder_iter_46000.pth.tar   vgg_normalised.pth\n"
          ],
          "name": "stdout"
        }
      ]
    },
    {
      "cell_type": "code",
      "metadata": {
        "id": "h93j09IrD809"
      },
      "source": [
        "content_dir = \"/content/drive/My Drive/content\"\n",
        "style_dir = \"/content/drive/My Drive/style\"\n",
        "decoder_path = None\n",
        "decoder_path = \"/content/drive/My Drive/models/decoder_iter_74000.pth.tar\"\n",
        "training_iters_passed = 74000\n",
        "vgg_path = \"/content/drive/My Drive/models/vgg_normalised.pth\"\n",
        "save_dir = '/content/drive/My Drive/models'\n",
        "log_dir = './logs'\n",
        "lr = 1e-4\n",
        "lr_decay = 5e-5\n",
        "max_iter = 160000\n",
        "batch_size = 8\n",
        "style_weight = 10.0\n",
        "content_weight = 1.0\n",
        "n_threads = 8\n",
        "save_model_interval = 2000"
      ],
      "execution_count": null,
      "outputs": []
    },
    {
      "cell_type": "code",
      "metadata": {
        "id": "e4SEEE0zDb8G"
      },
      "source": [
        "def train_transform():\n",
        "    transform_list = [\n",
        "        transforms.Resize(size=(512, 512)),\n",
        "        transforms.RandomCrop(256),\n",
        "        transforms.ToTensor()\n",
        "    ]\n",
        "    return transforms.Compose(transform_list)\n",
        "\n",
        "\n",
        "class FlatFolderDataset(data.Dataset):\n",
        "    def __init__(self, root, transform):\n",
        "        super(FlatFolderDataset, self).__init__()\n",
        "        self.root = root\n",
        "        self.paths = list(Path(self.root).glob('*'))\n",
        "        self.transform = transform\n",
        "\n",
        "    def __getitem__(self, index):\n",
        "        path = self.paths[index]\n",
        "        img = Image.open(str(path)).convert('RGB')\n",
        "        img = self.transform(img)\n",
        "        return img\n",
        "\n",
        "    def __len__(self):\n",
        "        return len(self.paths)\n",
        "\n",
        "    def name(self):\n",
        "        return 'FlatFolderDataset'\n",
        "\n",
        "\n",
        "def adjust_learning_rate(optimizer, lr, iteration_count):\n",
        "    \"\"\"Imitating the original implementation\"\"\"\n",
        "    lr = lr / (1.0 + lr_decay * iteration_count)\n",
        "    for param_group in optimizer.param_groups:\n",
        "        param_group['lr'] = lr"
      ],
      "execution_count": null,
      "outputs": []
    },
    {
      "cell_type": "code",
      "metadata": {
        "id": "FBf9BOh5GmdQ"
      },
      "source": [
        "def calc_mean_std(feat, eps=1e-5):\n",
        "    # eps is a small value added to the variance to avoid divide-by-zero.\n",
        "    size = feat.size()\n",
        "    assert (len(size) == 4)\n",
        "    N, C = size[:2]\n",
        "    feat_var = feat.view(N, C, -1).var(dim=2) + eps\n",
        "    feat_std = feat_var.sqrt().view(N, C, 1, 1)\n",
        "    feat_mean = feat.view(N, C, -1).mean(dim=2).view(N, C, 1, 1)\n",
        "    return feat_mean, feat_std\n",
        "\n",
        "\n",
        "def adaptive_instance_normalization(content_feat, style_feat):\n",
        "    assert (content_feat.size()[:2] == style_feat.size()[:2])\n",
        "    size = content_feat.size()\n",
        "    style_mean, style_std = calc_mean_std(style_feat)\n",
        "    content_mean, content_std = calc_mean_std(content_feat)\n",
        "\n",
        "    normalized_feat = (content_feat - content_mean.expand(\n",
        "        size)) / content_std.expand(size)\n",
        "    return normalized_feat * style_std.expand(size) + style_mean.expand(size)\n",
        "\n",
        "\n",
        "def _calc_feat_flatten_mean_std(feat):\n",
        "    # takes 3D feat (C, H, W), return mean and std of array within channels\n",
        "    assert (feat.size()[0] == 3)\n",
        "    assert (isinstance(feat, torch.FloatTensor))\n",
        "    feat_flatten = feat.view(3, -1)\n",
        "    mean = feat_flatten.mean(dim=-1, keepdim=True)\n",
        "    std = feat_flatten.std(dim=-1, keepdim=True)\n",
        "    return feat_flatten, mean, std\n",
        "\n",
        "\n",
        "decoder = nn.Sequential(\n",
        "    nn.ReflectionPad2d((1, 1, 1, 1)),\n",
        "    nn.Conv2d(512, 256, (3, 3)),\n",
        "    nn.ReLU(),\n",
        "    nn.Upsample(scale_factor=2, mode='nearest'),\n",
        "    nn.ReflectionPad2d((1, 1, 1, 1)),\n",
        "    nn.Conv2d(256, 256, (3, 3)),\n",
        "    nn.ReLU(),\n",
        "    nn.ReflectionPad2d((1, 1, 1, 1)),\n",
        "    nn.Conv2d(256, 256, (3, 3)),\n",
        "    nn.ReLU(),\n",
        "    nn.ReflectionPad2d((1, 1, 1, 1)),\n",
        "    nn.Conv2d(256, 256, (3, 3)),\n",
        "    nn.ReLU(),\n",
        "    nn.ReflectionPad2d((1, 1, 1, 1)),\n",
        "    nn.Conv2d(256, 128, (3, 3)),\n",
        "    nn.ReLU(),\n",
        "    nn.Upsample(scale_factor=2, mode='nearest'),\n",
        "    nn.ReflectionPad2d((1, 1, 1, 1)),\n",
        "    nn.Conv2d(128, 128, (3, 3)),\n",
        "    nn.ReLU(),\n",
        "    nn.ReflectionPad2d((1, 1, 1, 1)),\n",
        "    nn.Conv2d(128, 64, (3, 3)),\n",
        "    nn.ReLU(),\n",
        "    nn.Upsample(scale_factor=2, mode='nearest'),\n",
        "    nn.ReflectionPad2d((1, 1, 1, 1)),\n",
        "    nn.Conv2d(64, 64, (3, 3)),\n",
        "    nn.ReLU(),\n",
        "    nn.ReflectionPad2d((1, 1, 1, 1)),\n",
        "    nn.Conv2d(64, 3, (3, 3)),\n",
        ")\n",
        "\n",
        "vgg = nn.Sequential(\n",
        "    nn.Conv2d(3, 3, (1, 1)),\n",
        "    nn.ReflectionPad2d((1, 1, 1, 1)),\n",
        "    nn.Conv2d(3, 64, (3, 3)),\n",
        "    nn.ReLU(),  # relu1-1\n",
        "    nn.ReflectionPad2d((1, 1, 1, 1)),\n",
        "    nn.Conv2d(64, 64, (3, 3)),\n",
        "    nn.ReLU(),  # relu1-2\n",
        "    nn.MaxPool2d((2, 2), (2, 2), (0, 0), ceil_mode=True),\n",
        "    nn.ReflectionPad2d((1, 1, 1, 1)),\n",
        "    nn.Conv2d(64, 128, (3, 3)),\n",
        "    nn.ReLU(),  # relu2-1\n",
        "    nn.ReflectionPad2d((1, 1, 1, 1)),\n",
        "    nn.Conv2d(128, 128, (3, 3)),\n",
        "    nn.ReLU(),  # relu2-2\n",
        "    nn.MaxPool2d((2, 2), (2, 2), (0, 0), ceil_mode=True),\n",
        "    nn.ReflectionPad2d((1, 1, 1, 1)),\n",
        "    nn.Conv2d(128, 256, (3, 3)),\n",
        "    nn.ReLU(),  # relu3-1\n",
        "    nn.ReflectionPad2d((1, 1, 1, 1)),\n",
        "    nn.Conv2d(256, 256, (3, 3)),\n",
        "    nn.ReLU(),  # relu3-2\n",
        "    nn.ReflectionPad2d((1, 1, 1, 1)),\n",
        "    nn.Conv2d(256, 256, (3, 3)),\n",
        "    nn.ReLU(),  # relu3-3\n",
        "    nn.ReflectionPad2d((1, 1, 1, 1)),\n",
        "    nn.Conv2d(256, 256, (3, 3)),\n",
        "    nn.ReLU(),  # relu3-4\n",
        "    nn.MaxPool2d((2, 2), (2, 2), (0, 0), ceil_mode=True),\n",
        "    nn.ReflectionPad2d((1, 1, 1, 1)),\n",
        "    nn.Conv2d(256, 512, (3, 3)),\n",
        "    nn.ReLU(),  # relu4-1, this is the last layer used\n",
        "    nn.ReflectionPad2d((1, 1, 1, 1)),\n",
        "    nn.Conv2d(512, 512, (3, 3)),\n",
        "    nn.ReLU(),  # relu4-2\n",
        "    nn.ReflectionPad2d((1, 1, 1, 1)),\n",
        "    nn.Conv2d(512, 512, (3, 3)),\n",
        "    nn.ReLU(),  # relu4-3\n",
        "    nn.ReflectionPad2d((1, 1, 1, 1)),\n",
        "    nn.Conv2d(512, 512, (3, 3)),\n",
        "    nn.ReLU(),  # relu4-4\n",
        "    nn.MaxPool2d((2, 2), (2, 2), (0, 0), ceil_mode=True),\n",
        "    nn.ReflectionPad2d((1, 1, 1, 1)),\n",
        "    nn.Conv2d(512, 512, (3, 3)),\n",
        "    nn.ReLU(),  # relu5-1\n",
        "    nn.ReflectionPad2d((1, 1, 1, 1)),\n",
        "    nn.Conv2d(512, 512, (3, 3)),\n",
        "    nn.ReLU(),  # relu5-2\n",
        "    nn.ReflectionPad2d((1, 1, 1, 1)),\n",
        "    nn.Conv2d(512, 512, (3, 3)),\n",
        "    nn.ReLU(),  # relu5-3\n",
        "    nn.ReflectionPad2d((1, 1, 1, 1)),\n",
        "    nn.Conv2d(512, 512, (3, 3)),\n",
        "    nn.ReLU()  # relu5-4\n",
        ")\n",
        "\n",
        "\n",
        "class Net(nn.Module):\n",
        "    def __init__(self, encoder, decoder):\n",
        "        super(Net, self).__init__()\n",
        "        enc_layers = list(encoder.children())\n",
        "        self.enc_1 = nn.Sequential(*enc_layers[:4])  # input -> relu1_1\n",
        "        self.enc_2 = nn.Sequential(*enc_layers[4:11])  # relu1_1 -> relu2_1\n",
        "        self.enc_3 = nn.Sequential(*enc_layers[11:18])  # relu2_1 -> relu3_1\n",
        "        self.enc_4 = nn.Sequential(*enc_layers[18:31])  # relu3_1 -> relu4_1\n",
        "        self.decoder = decoder\n",
        "        self.mse_loss = nn.MSELoss()\n",
        "\n",
        "        # fix the encoder\n",
        "        for name in ['enc_1', 'enc_2', 'enc_3', 'enc_4']:\n",
        "            for param in getattr(self, name).parameters():\n",
        "                param.requires_grad = False\n",
        "\n",
        "    # extract relu1_1, relu2_1, relu3_1, relu4_1 from input image\n",
        "    def encode_with_intermediate(self, input):\n",
        "        results = [input]\n",
        "        for i in range(4):\n",
        "            func = getattr(self, 'enc_{:d}'.format(i + 1))\n",
        "            results.append(func(results[-1]))\n",
        "        return results[1:]\n",
        "\n",
        "    # extract relu4_1 from input image\n",
        "    def encode(self, input):\n",
        "        for i in range(4):\n",
        "            input = getattr(self, 'enc_{:d}'.format(i + 1))(input)\n",
        "        return input\n",
        "\n",
        "    def calc_content_loss(self, input, target):\n",
        "        assert (input.size() == target.size())\n",
        "        assert (target.requires_grad is False)\n",
        "        return self.mse_loss(input, target)\n",
        "\n",
        "    def calc_style_loss(self, input, target):\n",
        "        assert (input.size() == target.size())\n",
        "        assert (target.requires_grad is False)\n",
        "        input_mean, input_std = calc_mean_std(input)\n",
        "        target_mean, target_std = calc_mean_std(target)\n",
        "        return self.mse_loss(input_mean, target_mean) + \\\n",
        "               self.mse_loss(input_std, target_std)\n",
        "\n",
        "    def forward(self, content, style, alpha=1.0):\n",
        "        assert 0 <= alpha <= 1\n",
        "        style_feats = self.encode_with_intermediate(style)\n",
        "        content_feat = self.encode(content)\n",
        "        t = adaptive_instance_normalization(content_feat, style_feats[-1])\n",
        "        t = alpha * t + (1 - alpha) * content_feat\n",
        "\n",
        "        g_t = self.decoder(t)\n",
        "        g_t_feats = self.encode_with_intermediate(g_t)\n",
        "\n",
        "        loss_c = self.calc_content_loss(g_t_feats[-1], t)\n",
        "        loss_s = self.calc_style_loss(g_t_feats[0], style_feats[0])\n",
        "        for i in range(1, 4):\n",
        "            loss_s += self.calc_style_loss(g_t_feats[i], style_feats[i])\n",
        "        return loss_c, loss_s\n",
        "\n",
        "\n",
        "def InfiniteSampler(n):\n",
        "    # i = 0\n",
        "    i = n - 1\n",
        "    order = np.random.permutation(n)\n",
        "    while True:\n",
        "        yield order[i]\n",
        "        i += 1\n",
        "        if i >= n:\n",
        "            np.random.seed()\n",
        "            order = np.random.permutation(n)\n",
        "            i = 0\n",
        "\n",
        "\n",
        "class InfiniteSamplerWrapper(data.sampler.Sampler):\n",
        "    def __init__(self, data_source):\n",
        "        self.num_samples = len(data_source)\n",
        "\n",
        "    def __iter__(self):\n",
        "        return iter(InfiniteSampler(self.num_samples))\n",
        "\n",
        "    def __len__(self):\n",
        "        return 2 ** 31"
      ],
      "execution_count": null,
      "outputs": []
    },
    {
      "cell_type": "code",
      "metadata": {
        "id": "htMTUHjcFit7"
      },
      "source": [
        "save_dir = Path(save_dir)\n",
        "save_dir.mkdir(exist_ok=True, parents=True)\n",
        "log_dir = Path(log_dir)\n",
        "log_dir.mkdir(exist_ok=True, parents=True)\n",
        "writer = SummaryWriter(log_dir=str(log_dir))"
      ],
      "execution_count": null,
      "outputs": []
    },
    {
      "cell_type": "code",
      "metadata": {
        "id": "cIYtUJqhFrdk",
        "colab": {
          "base_uri": "https://localhost:8080/",
          "height": 1000
        },
        "outputId": "bc10110d-0de4-4a31-f0ba-b224498b9f6e"
      },
      "source": [
        "decoder = decoder\n",
        "vgg = vgg\n",
        "if decoder_path is not None:\n",
        "  decoder.load_state_dict(torch.load(decoder_path))\n",
        "vgg.load_state_dict(torch.load(vgg_path))\n",
        "vgg = nn.Sequential(*list(vgg.children())[:31])\n",
        "network = Net(vgg, decoder)\n",
        "network.train()\n",
        "network.to(device)"
      ],
      "execution_count": null,
      "outputs": [
        {
          "output_type": "execute_result",
          "data": {
            "text/plain": [
              "Net(\n",
              "  (enc_1): Sequential(\n",
              "    (0): Conv2d(3, 3, kernel_size=(1, 1), stride=(1, 1))\n",
              "    (1): ReflectionPad2d((1, 1, 1, 1))\n",
              "    (2): Conv2d(3, 64, kernel_size=(3, 3), stride=(1, 1))\n",
              "    (3): ReLU()\n",
              "  )\n",
              "  (enc_2): Sequential(\n",
              "    (0): ReflectionPad2d((1, 1, 1, 1))\n",
              "    (1): Conv2d(64, 64, kernel_size=(3, 3), stride=(1, 1))\n",
              "    (2): ReLU()\n",
              "    (3): MaxPool2d(kernel_size=(2, 2), stride=(2, 2), padding=(0, 0), dilation=1, ceil_mode=True)\n",
              "    (4): ReflectionPad2d((1, 1, 1, 1))\n",
              "    (5): Conv2d(64, 128, kernel_size=(3, 3), stride=(1, 1))\n",
              "    (6): ReLU()\n",
              "  )\n",
              "  (enc_3): Sequential(\n",
              "    (0): ReflectionPad2d((1, 1, 1, 1))\n",
              "    (1): Conv2d(128, 128, kernel_size=(3, 3), stride=(1, 1))\n",
              "    (2): ReLU()\n",
              "    (3): MaxPool2d(kernel_size=(2, 2), stride=(2, 2), padding=(0, 0), dilation=1, ceil_mode=True)\n",
              "    (4): ReflectionPad2d((1, 1, 1, 1))\n",
              "    (5): Conv2d(128, 256, kernel_size=(3, 3), stride=(1, 1))\n",
              "    (6): ReLU()\n",
              "  )\n",
              "  (enc_4): Sequential(\n",
              "    (0): ReflectionPad2d((1, 1, 1, 1))\n",
              "    (1): Conv2d(256, 256, kernel_size=(3, 3), stride=(1, 1))\n",
              "    (2): ReLU()\n",
              "    (3): ReflectionPad2d((1, 1, 1, 1))\n",
              "    (4): Conv2d(256, 256, kernel_size=(3, 3), stride=(1, 1))\n",
              "    (5): ReLU()\n",
              "    (6): ReflectionPad2d((1, 1, 1, 1))\n",
              "    (7): Conv2d(256, 256, kernel_size=(3, 3), stride=(1, 1))\n",
              "    (8): ReLU()\n",
              "    (9): MaxPool2d(kernel_size=(2, 2), stride=(2, 2), padding=(0, 0), dilation=1, ceil_mode=True)\n",
              "    (10): ReflectionPad2d((1, 1, 1, 1))\n",
              "    (11): Conv2d(256, 512, kernel_size=(3, 3), stride=(1, 1))\n",
              "    (12): ReLU()\n",
              "  )\n",
              "  (decoder): Sequential(\n",
              "    (0): ReflectionPad2d((1, 1, 1, 1))\n",
              "    (1): Conv2d(512, 256, kernel_size=(3, 3), stride=(1, 1))\n",
              "    (2): ReLU()\n",
              "    (3): Upsample(scale_factor=2.0, mode=nearest)\n",
              "    (4): ReflectionPad2d((1, 1, 1, 1))\n",
              "    (5): Conv2d(256, 256, kernel_size=(3, 3), stride=(1, 1))\n",
              "    (6): ReLU()\n",
              "    (7): ReflectionPad2d((1, 1, 1, 1))\n",
              "    (8): Conv2d(256, 256, kernel_size=(3, 3), stride=(1, 1))\n",
              "    (9): ReLU()\n",
              "    (10): ReflectionPad2d((1, 1, 1, 1))\n",
              "    (11): Conv2d(256, 256, kernel_size=(3, 3), stride=(1, 1))\n",
              "    (12): ReLU()\n",
              "    (13): ReflectionPad2d((1, 1, 1, 1))\n",
              "    (14): Conv2d(256, 128, kernel_size=(3, 3), stride=(1, 1))\n",
              "    (15): ReLU()\n",
              "    (16): Upsample(scale_factor=2.0, mode=nearest)\n",
              "    (17): ReflectionPad2d((1, 1, 1, 1))\n",
              "    (18): Conv2d(128, 128, kernel_size=(3, 3), stride=(1, 1))\n",
              "    (19): ReLU()\n",
              "    (20): ReflectionPad2d((1, 1, 1, 1))\n",
              "    (21): Conv2d(128, 64, kernel_size=(3, 3), stride=(1, 1))\n",
              "    (22): ReLU()\n",
              "    (23): Upsample(scale_factor=2.0, mode=nearest)\n",
              "    (24): ReflectionPad2d((1, 1, 1, 1))\n",
              "    (25): Conv2d(64, 64, kernel_size=(3, 3), stride=(1, 1))\n",
              "    (26): ReLU()\n",
              "    (27): ReflectionPad2d((1, 1, 1, 1))\n",
              "    (28): Conv2d(64, 3, kernel_size=(3, 3), stride=(1, 1))\n",
              "  )\n",
              "  (mse_loss): MSELoss()\n",
              ")"
            ]
          },
          "metadata": {
            "tags": []
          },
          "execution_count": 10
        }
      ]
    },
    {
      "cell_type": "code",
      "metadata": {
        "id": "ofN74_stJRdc"
      },
      "source": [
        "content_tf = train_transform()\n",
        "style_tf = train_transform()\n",
        "\n",
        "content_dataset = FlatFolderDataset(content_dir, content_tf)\n",
        "style_dataset = FlatFolderDataset(style_dir, style_tf)\n",
        "\n",
        "content_iter = iter(data.DataLoader(\n",
        "    content_dataset, batch_size=batch_size,\n",
        "    sampler=InfiniteSamplerWrapper(content_dataset),\n",
        "    num_workers=n_threads))\n",
        "style_iter = iter(data.DataLoader(\n",
        "    style_dataset, batch_size=batch_size,\n",
        "    sampler=InfiniteSamplerWrapper(style_dataset),\n",
        "    num_workers=n_threads))"
      ],
      "execution_count": null,
      "outputs": []
    },
    {
      "cell_type": "code",
      "metadata": {
        "id": "zUpAh06nJucS",
        "colab": {
          "base_uri": "https://localhost:8080/",
          "height": 527
        },
        "outputId": "6037eb48-94c1-44ab-97c7-20fdbd4ff71f"
      },
      "source": [
        "!ls ./drive/'My Drive'/models/"
      ],
      "execution_count": null,
      "outputs": [
        {
          "output_type": "stream",
          "text": [
            "decoder_iter_100000.pth.tar  decoder_iter_48000.pth.tar\n",
            "decoder_iter_10000.pth.tar   decoder_iter_50000.pth.tar\n",
            "decoder_iter_102000.pth.tar  decoder_iter_52000.pth.tar\n",
            "decoder_iter_104000.pth.tar  decoder_iter_54000.pth.tar\n",
            "decoder_iter_106000.pth.tar  decoder_iter_56000.pth.tar\n",
            "decoder_iter_108000.pth.tar  decoder_iter_58000.pth.tar\n",
            "decoder_iter_110000.pth.tar  decoder_iter_60000.pth.tar\n",
            "decoder_iter_112000.pth.tar  decoder_iter_6000.pth.tar\n",
            "decoder_iter_114000.pth.tar  decoder_iter_62000.pth.tar\n",
            "decoder_iter_116000.pth.tar  decoder_iter_64000.pth.tar\n",
            "decoder_iter_12000.pth.tar   decoder_iter_66000.pth.tar\n",
            "decoder_iter_14000.pth.tar   decoder_iter_68000.pth.tar\n",
            "decoder_iter_16000.pth.tar   decoder_iter_70000.pth.tar\n",
            "decoder_iter_18000.pth.tar   decoder_iter_72000.pth.tar\n",
            "decoder_iter_20000.pth.tar   decoder_iter_74000.pth.tar\n",
            "decoder_iter_2000.pth.tar    decoder_iter_76000.pth.tar\n",
            "decoder_iter_22000.pth.tar   decoder_iter_78000.pth.tar\n",
            "decoder_iter_24000.pth.tar   decoder_iter_80000.pth.tar\n",
            "decoder_iter_26000.pth.tar   decoder_iter_8000.pth.tar\n",
            "decoder_iter_28000.pth.tar   decoder_iter_82000.pth.tar\n",
            "decoder_iter_30000.pth.tar   decoder_iter_84000.pth.tar\n",
            "decoder_iter_32000.pth.tar   decoder_iter_86000.pth.tar\n",
            "decoder_iter_34000.pth.tar   decoder_iter_88000.pth.tar\n",
            "decoder_iter_36000.pth.tar   decoder_iter_90000.pth.tar\n",
            "decoder_iter_38000.pth.tar   decoder_iter_92000.pth.tar\n",
            "decoder_iter_40000.pth.tar   decoder_iter_94000.pth.tar\n",
            "decoder_iter_4000.pth.tar    decoder_iter_96000.pth.tar\n",
            "decoder_iter_42000.pth.tar   decoder_iter_98000.pth.tar\n",
            "decoder_iter_44000.pth.tar   small_dataset_models\n",
            "decoder_iter_46000.pth.tar   vgg_normalised.pth\n"
          ],
          "name": "stdout"
        }
      ]
    },
    {
      "cell_type": "code",
      "metadata": {
        "id": "9vnI-IL4KVLx",
        "colab": {
          "base_uri": "https://localhost:8080/",
          "height": 34
        },
        "outputId": "44281505-9f70-4b34-9b0a-1ec3e2bd1844"
      },
      "source": [
        "optimizer = torch.optim.Adam(network.decoder.parameters(), lr=lr)\n",
        "\n",
        "for i in tqdm(range(max_iter)):\n",
        "    adjust_learning_rate(optimizer, lr, iteration_count=i)\n",
        "    content_images = next(content_iter).to(device)\n",
        "    style_images = next(style_iter).to(device)\n",
        "    loss_c, loss_s = network(content_images, style_images)\n",
        "    loss_c = content_weight * loss_c\n",
        "    loss_s = style_weight * loss_s\n",
        "    loss = loss_c + loss_s\n",
        "\n",
        "    optimizer.zero_grad()\n",
        "    loss.backward()\n",
        "    optimizer.step()\n",
        "\n",
        "    writer.add_scalar('loss_content', loss_c.item(), i + 1)\n",
        "    writer.add_scalar('loss_style', loss_s.item(), i + 1)\n",
        "\n",
        "    if (i + 1) % save_model_interval == 0 or (i + 1) == max_iter:\n",
        "        state_dict = decoder.state_dict()\n",
        "        for key in state_dict.keys():\n",
        "            state_dict[key] = state_dict[key].to(torch.device('cpu'))\n",
        "        torch.save(state_dict, save_dir /\n",
        "                   'decoder_iter_{:d}.pth.tar'.format(training_iters_passed + i + 1))\n",
        "writer.close()"
      ],
      "execution_count": null,
      "outputs": [
        {
          "output_type": "stream",
          "text": [
            " 18%|█▊        | 29469/160000 [4:31:05<20:33:46,  1.76it/s]"
          ],
          "name": "stderr"
        }
      ]
    },
    {
      "cell_type": "code",
      "metadata": {
        "id": "fvS_TOxPKqoO"
      },
      "source": [
        "torch.__version__"
      ],
      "execution_count": null,
      "outputs": []
    },
    {
      "cell_type": "code",
      "metadata": {
        "id": "q8tFynF_NW1F",
        "colab": {
          "base_uri": "https://localhost:8080/",
          "height": 215
        },
        "outputId": "cfc29e1d-f6fa-4863-b6b8-3aa8eb4a5bf7"
      },
      "source": [
        "state_dict = decoder.state_dict()\n",
        "for key in state_dict.keys():\n",
        "    state_dict[key] = state_dict[key].to(torch.device('cpu'))\n",
        "torch.save(state_dict, save_dir /\n",
        "            'decoder_iter_{:d}.pth.tar'.format(i + 1))\n",
        "writer.close()"
      ],
      "execution_count": null,
      "outputs": [
        {
          "output_type": "error",
          "ename": "NameError",
          "evalue": "ignored",
          "traceback": [
            "\u001b[0;31m---------------------------------------------------------------------------\u001b[0m",
            "\u001b[0;31mNameError\u001b[0m                                 Traceback (most recent call last)",
            "\u001b[0;32m<ipython-input-12-2f23d887237e>\u001b[0m in \u001b[0;36m<module>\u001b[0;34m()\u001b[0m\n\u001b[1;32m      3\u001b[0m     \u001b[0mstate_dict\u001b[0m\u001b[0;34m[\u001b[0m\u001b[0mkey\u001b[0m\u001b[0;34m]\u001b[0m \u001b[0;34m=\u001b[0m \u001b[0mstate_dict\u001b[0m\u001b[0;34m[\u001b[0m\u001b[0mkey\u001b[0m\u001b[0;34m]\u001b[0m\u001b[0;34m.\u001b[0m\u001b[0mto\u001b[0m\u001b[0;34m(\u001b[0m\u001b[0mtorch\u001b[0m\u001b[0;34m.\u001b[0m\u001b[0mdevice\u001b[0m\u001b[0;34m(\u001b[0m\u001b[0;34m'cpu'\u001b[0m\u001b[0;34m)\u001b[0m\u001b[0;34m)\u001b[0m\u001b[0;34m\u001b[0m\u001b[0;34m\u001b[0m\u001b[0m\n\u001b[1;32m      4\u001b[0m torch.save(state_dict, save_dir /\n\u001b[0;32m----> 5\u001b[0;31m             'decoder_iter_{:d}.pth.tar'.format(i + 1))\n\u001b[0m\u001b[1;32m      6\u001b[0m \u001b[0mwriter\u001b[0m\u001b[0;34m.\u001b[0m\u001b[0mclose\u001b[0m\u001b[0;34m(\u001b[0m\u001b[0;34m)\u001b[0m\u001b[0;34m\u001b[0m\u001b[0;34m\u001b[0m\u001b[0m\n",
            "\u001b[0;31mNameError\u001b[0m: name 'i' is not defined"
          ]
        }
      ]
    },
    {
      "cell_type": "code",
      "metadata": {
        "id": "hXNxSHnv2Iv2",
        "colab": {
          "base_uri": "https://localhost:8080/",
          "height": 1000
        },
        "outputId": "f242e940-aa9a-4246-d41b-42f3b681f6aa"
      },
      "source": [
        "loss_list = []\n",
        "loss_content_list = []\n",
        "loss_style_list = []\n",
        "\n",
        "eval_iters = 100\n",
        "\n",
        "for i in range(2, 102, 2):\n",
        "  decoder_path = \"/content/drive/My Drive/models/decoder_iter_{}000.pth.tar\".format(i)\n",
        "  decoder.load_state_dict(torch.load(decoder_path))\n",
        "  print('Processing: {}'.format(i))\n",
        "\n",
        "  content_tf = train_transform()\n",
        "  style_tf = train_transform()\n",
        "\n",
        "  content_dataset = FlatFolderDataset(content_dir, content_tf)\n",
        "  style_dataset = FlatFolderDataset(style_dir, style_tf)\n",
        "\n",
        "  content_iter = iter(data.DataLoader(\n",
        "      content_dataset, batch_size=batch_size,\n",
        "      sampler=InfiniteSamplerWrapper(content_dataset),\n",
        "      num_workers=n_threads))\n",
        "  style_iter = iter(data.DataLoader(\n",
        "      style_dataset, batch_size=batch_size,\n",
        "      sampler=InfiniteSamplerWrapper(style_dataset),\n",
        "      num_workers=n_threads))\n",
        "\n",
        "  with torch.no_grad():\n",
        "\n",
        "    cur_loss = 0\n",
        "    cur_loss_content = 0\n",
        "    cur_loss_style = 0\n",
        "\n",
        "    for i in tqdm(range(eval_iters)):\n",
        "      # adjust_learning_rate(optimizer, lr, iteration_count=i)\n",
        "      content_images = next(content_iter).to(device)\n",
        "      style_images = next(style_iter).to(device)\n",
        "      loss_c, loss_s = network(content_images, style_images)\n",
        "      loss_c = content_weight * loss_c\n",
        "      loss_s = style_weight * loss_s\n",
        "      loss = loss_c + loss_s\n",
        "\n",
        "      cur_loss_content += loss_c\n",
        "      cur_loss_style += loss_s\n",
        "      cur_loss += loss\n",
        "\n",
        "    loss_list.append(cur_loss)\n",
        "    loss_content_list.append(cur_loss_content)\n",
        "    loss_style_list.append(cur_loss_style)"
      ],
      "execution_count": null,
      "outputs": [
        {
          "output_type": "stream",
          "text": [
            "Processing: 2\n"
          ],
          "name": "stdout"
        },
        {
          "output_type": "stream",
          "text": [
            "100%|██████████| 100/100 [01:03<00:00,  1.56it/s]\n"
          ],
          "name": "stderr"
        },
        {
          "output_type": "stream",
          "text": [
            "Processing: 4\n"
          ],
          "name": "stdout"
        },
        {
          "output_type": "stream",
          "text": [
            "100%|██████████| 100/100 [00:50<00:00,  1.99it/s]\n"
          ],
          "name": "stderr"
        },
        {
          "output_type": "stream",
          "text": [
            "Processing: 6\n"
          ],
          "name": "stdout"
        },
        {
          "output_type": "stream",
          "text": [
            "100%|██████████| 100/100 [00:47<00:00,  2.11it/s]\n"
          ],
          "name": "stderr"
        },
        {
          "output_type": "stream",
          "text": [
            "Processing: 8\n"
          ],
          "name": "stdout"
        },
        {
          "output_type": "stream",
          "text": [
            "100%|██████████| 100/100 [00:51<00:00,  1.95it/s]\n"
          ],
          "name": "stderr"
        },
        {
          "output_type": "stream",
          "text": [
            "Processing: 10\n"
          ],
          "name": "stdout"
        },
        {
          "output_type": "stream",
          "text": [
            "100%|██████████| 100/100 [00:51<00:00,  1.94it/s]\n"
          ],
          "name": "stderr"
        },
        {
          "output_type": "stream",
          "text": [
            "Processing: 12\n"
          ],
          "name": "stdout"
        },
        {
          "output_type": "stream",
          "text": [
            "100%|██████████| 100/100 [00:49<00:00,  2.03it/s]\n"
          ],
          "name": "stderr"
        },
        {
          "output_type": "stream",
          "text": [
            "Processing: 14\n"
          ],
          "name": "stdout"
        },
        {
          "output_type": "stream",
          "text": [
            "100%|██████████| 100/100 [00:46<00:00,  2.13it/s]\n"
          ],
          "name": "stderr"
        },
        {
          "output_type": "stream",
          "text": [
            "Processing: 16\n"
          ],
          "name": "stdout"
        },
        {
          "output_type": "stream",
          "text": [
            "100%|██████████| 100/100 [00:51<00:00,  1.95it/s]\n"
          ],
          "name": "stderr"
        },
        {
          "output_type": "stream",
          "text": [
            "Processing: 18\n"
          ],
          "name": "stdout"
        },
        {
          "output_type": "stream",
          "text": [
            "100%|██████████| 100/100 [00:49<00:00,  2.03it/s]\n"
          ],
          "name": "stderr"
        },
        {
          "output_type": "stream",
          "text": [
            "Processing: 20\n"
          ],
          "name": "stdout"
        },
        {
          "output_type": "stream",
          "text": [
            "100%|██████████| 100/100 [00:48<00:00,  2.06it/s]\n"
          ],
          "name": "stderr"
        },
        {
          "output_type": "stream",
          "text": [
            "Processing: 22\n"
          ],
          "name": "stdout"
        },
        {
          "output_type": "stream",
          "text": [
            "100%|██████████| 100/100 [00:46<00:00,  2.15it/s]\n"
          ],
          "name": "stderr"
        },
        {
          "output_type": "stream",
          "text": [
            "Processing: 24\n"
          ],
          "name": "stdout"
        },
        {
          "output_type": "stream",
          "text": [
            "100%|██████████| 100/100 [00:49<00:00,  2.03it/s]\n"
          ],
          "name": "stderr"
        },
        {
          "output_type": "stream",
          "text": [
            "Processing: 26\n"
          ],
          "name": "stdout"
        },
        {
          "output_type": "stream",
          "text": [
            "100%|██████████| 100/100 [00:46<00:00,  2.17it/s]\n"
          ],
          "name": "stderr"
        },
        {
          "output_type": "stream",
          "text": [
            "Processing: 28\n"
          ],
          "name": "stdout"
        },
        {
          "output_type": "stream",
          "text": [
            "100%|██████████| 100/100 [00:46<00:00,  2.16it/s]\n"
          ],
          "name": "stderr"
        },
        {
          "output_type": "stream",
          "text": [
            "Processing: 30\n"
          ],
          "name": "stdout"
        },
        {
          "output_type": "stream",
          "text": [
            "100%|██████████| 100/100 [00:47<00:00,  2.09it/s]\n"
          ],
          "name": "stderr"
        },
        {
          "output_type": "stream",
          "text": [
            "Processing: 32\n"
          ],
          "name": "stdout"
        },
        {
          "output_type": "stream",
          "text": [
            "100%|██████████| 100/100 [00:45<00:00,  2.21it/s]\n"
          ],
          "name": "stderr"
        },
        {
          "output_type": "stream",
          "text": [
            "Processing: 34\n"
          ],
          "name": "stdout"
        },
        {
          "output_type": "stream",
          "text": [
            "100%|██████████| 100/100 [00:47<00:00,  2.12it/s]\n"
          ],
          "name": "stderr"
        },
        {
          "output_type": "stream",
          "text": [
            "Processing: 36\n"
          ],
          "name": "stdout"
        },
        {
          "output_type": "stream",
          "text": [
            "100%|██████████| 100/100 [00:46<00:00,  2.15it/s]\n"
          ],
          "name": "stderr"
        },
        {
          "output_type": "stream",
          "text": [
            "Processing: 38\n"
          ],
          "name": "stdout"
        },
        {
          "output_type": "stream",
          "text": [
            "100%|██████████| 100/100 [00:50<00:00,  2.00it/s]\n"
          ],
          "name": "stderr"
        },
        {
          "output_type": "stream",
          "text": [
            "Processing: 40\n"
          ],
          "name": "stdout"
        },
        {
          "output_type": "stream",
          "text": [
            "100%|██████████| 100/100 [00:48<00:00,  2.05it/s]\n"
          ],
          "name": "stderr"
        },
        {
          "output_type": "stream",
          "text": [
            "Processing: 42\n"
          ],
          "name": "stdout"
        },
        {
          "output_type": "stream",
          "text": [
            "100%|██████████| 100/100 [00:49<00:00,  2.00it/s]\n"
          ],
          "name": "stderr"
        },
        {
          "output_type": "stream",
          "text": [
            "Processing: 44\n"
          ],
          "name": "stdout"
        },
        {
          "output_type": "stream",
          "text": [
            "100%|██████████| 100/100 [00:47<00:00,  2.12it/s]\n"
          ],
          "name": "stderr"
        },
        {
          "output_type": "stream",
          "text": [
            "Processing: 46\n"
          ],
          "name": "stdout"
        },
        {
          "output_type": "stream",
          "text": [
            "100%|██████████| 100/100 [00:49<00:00,  2.02it/s]\n"
          ],
          "name": "stderr"
        },
        {
          "output_type": "stream",
          "text": [
            "Processing: 48\n"
          ],
          "name": "stdout"
        },
        {
          "output_type": "stream",
          "text": [
            "100%|██████████| 100/100 [00:51<00:00,  1.96it/s]\n"
          ],
          "name": "stderr"
        },
        {
          "output_type": "stream",
          "text": [
            "Processing: 50\n"
          ],
          "name": "stdout"
        },
        {
          "output_type": "stream",
          "text": [
            "100%|██████████| 100/100 [00:47<00:00,  2.12it/s]\n"
          ],
          "name": "stderr"
        },
        {
          "output_type": "stream",
          "text": [
            "Processing: 52\n"
          ],
          "name": "stdout"
        },
        {
          "output_type": "stream",
          "text": [
            "100%|██████████| 100/100 [00:47<00:00,  2.08it/s]\n"
          ],
          "name": "stderr"
        },
        {
          "output_type": "stream",
          "text": [
            "Processing: 54\n"
          ],
          "name": "stdout"
        },
        {
          "output_type": "stream",
          "text": [
            "100%|██████████| 100/100 [00:47<00:00,  2.10it/s]\n"
          ],
          "name": "stderr"
        },
        {
          "output_type": "stream",
          "text": [
            "Processing: 56\n"
          ],
          "name": "stdout"
        },
        {
          "output_type": "stream",
          "text": [
            "100%|██████████| 100/100 [00:49<00:00,  2.02it/s]\n"
          ],
          "name": "stderr"
        },
        {
          "output_type": "stream",
          "text": [
            "Processing: 58\n"
          ],
          "name": "stdout"
        },
        {
          "output_type": "stream",
          "text": [
            "100%|██████████| 100/100 [00:51<00:00,  1.94it/s]\n"
          ],
          "name": "stderr"
        },
        {
          "output_type": "stream",
          "text": [
            "Processing: 60\n"
          ],
          "name": "stdout"
        },
        {
          "output_type": "stream",
          "text": [
            "100%|██████████| 100/100 [00:50<00:00,  1.98it/s]\n"
          ],
          "name": "stderr"
        },
        {
          "output_type": "stream",
          "text": [
            "Processing: 62\n"
          ],
          "name": "stdout"
        },
        {
          "output_type": "stream",
          "text": [
            "100%|██████████| 100/100 [00:48<00:00,  2.06it/s]\n"
          ],
          "name": "stderr"
        },
        {
          "output_type": "stream",
          "text": [
            "Processing: 64\n"
          ],
          "name": "stdout"
        },
        {
          "output_type": "stream",
          "text": [
            "100%|██████████| 100/100 [00:47<00:00,  2.09it/s]\n"
          ],
          "name": "stderr"
        },
        {
          "output_type": "stream",
          "text": [
            "Processing: 66\n"
          ],
          "name": "stdout"
        },
        {
          "output_type": "stream",
          "text": [
            "100%|██████████| 100/100 [00:49<00:00,  2.04it/s]\n"
          ],
          "name": "stderr"
        },
        {
          "output_type": "stream",
          "text": [
            "Processing: 68\n"
          ],
          "name": "stdout"
        },
        {
          "output_type": "stream",
          "text": [
            "100%|██████████| 100/100 [00:50<00:00,  1.98it/s]\n"
          ],
          "name": "stderr"
        },
        {
          "output_type": "stream",
          "text": [
            "Processing: 70\n"
          ],
          "name": "stdout"
        },
        {
          "output_type": "stream",
          "text": [
            "100%|██████████| 100/100 [00:50<00:00,  1.98it/s]\n"
          ],
          "name": "stderr"
        },
        {
          "output_type": "stream",
          "text": [
            "Processing: 72\n"
          ],
          "name": "stdout"
        },
        {
          "output_type": "stream",
          "text": [
            "100%|██████████| 100/100 [00:49<00:00,  2.02it/s]\n"
          ],
          "name": "stderr"
        },
        {
          "output_type": "stream",
          "text": [
            "Processing: 74\n"
          ],
          "name": "stdout"
        },
        {
          "output_type": "stream",
          "text": [
            "100%|██████████| 100/100 [00:45<00:00,  2.18it/s]\n"
          ],
          "name": "stderr"
        },
        {
          "output_type": "stream",
          "text": [
            "Processing: 76\n"
          ],
          "name": "stdout"
        },
        {
          "output_type": "stream",
          "text": [
            "100%|██████████| 100/100 [00:45<00:00,  2.21it/s]\n"
          ],
          "name": "stderr"
        },
        {
          "output_type": "stream",
          "text": [
            "Processing: 78\n"
          ],
          "name": "stdout"
        },
        {
          "output_type": "stream",
          "text": [
            "100%|██████████| 100/100 [00:46<00:00,  2.13it/s]\n"
          ],
          "name": "stderr"
        },
        {
          "output_type": "stream",
          "text": [
            "Processing: 80\n"
          ],
          "name": "stdout"
        },
        {
          "output_type": "stream",
          "text": [
            "100%|██████████| 100/100 [00:46<00:00,  2.16it/s]\n"
          ],
          "name": "stderr"
        },
        {
          "output_type": "stream",
          "text": [
            "Processing: 82\n"
          ],
          "name": "stdout"
        },
        {
          "output_type": "stream",
          "text": [
            "100%|██████████| 100/100 [00:47<00:00,  2.12it/s]\n"
          ],
          "name": "stderr"
        },
        {
          "output_type": "stream",
          "text": [
            "Processing: 84\n"
          ],
          "name": "stdout"
        },
        {
          "output_type": "stream",
          "text": [
            "100%|██████████| 100/100 [00:51<00:00,  1.96it/s]\n"
          ],
          "name": "stderr"
        },
        {
          "output_type": "stream",
          "text": [
            "Processing: 86\n"
          ],
          "name": "stdout"
        },
        {
          "output_type": "stream",
          "text": [
            "100%|██████████| 100/100 [00:45<00:00,  2.19it/s]\n"
          ],
          "name": "stderr"
        },
        {
          "output_type": "stream",
          "text": [
            "Processing: 88\n"
          ],
          "name": "stdout"
        },
        {
          "output_type": "stream",
          "text": [
            "100%|██████████| 100/100 [00:45<00:00,  2.22it/s]\n"
          ],
          "name": "stderr"
        },
        {
          "output_type": "stream",
          "text": [
            "Processing: 90\n"
          ],
          "name": "stdout"
        },
        {
          "output_type": "stream",
          "text": [
            "100%|██████████| 100/100 [00:48<00:00,  2.08it/s]\n"
          ],
          "name": "stderr"
        },
        {
          "output_type": "stream",
          "text": [
            "Processing: 92\n"
          ],
          "name": "stdout"
        },
        {
          "output_type": "stream",
          "text": [
            "100%|██████████| 100/100 [00:49<00:00,  2.04it/s]\n"
          ],
          "name": "stderr"
        },
        {
          "output_type": "stream",
          "text": [
            "Processing: 94\n"
          ],
          "name": "stdout"
        },
        {
          "output_type": "stream",
          "text": [
            "100%|██████████| 100/100 [00:52<00:00,  1.91it/s]\n"
          ],
          "name": "stderr"
        },
        {
          "output_type": "stream",
          "text": [
            "Processing: 96\n"
          ],
          "name": "stdout"
        },
        {
          "output_type": "stream",
          "text": [
            "100%|██████████| 100/100 [00:50<00:00,  1.97it/s]\n"
          ],
          "name": "stderr"
        },
        {
          "output_type": "stream",
          "text": [
            "Processing: 98\n"
          ],
          "name": "stdout"
        },
        {
          "output_type": "stream",
          "text": [
            "100%|██████████| 100/100 [00:46<00:00,  2.17it/s]\n"
          ],
          "name": "stderr"
        },
        {
          "output_type": "stream",
          "text": [
            "Processing: 100\n"
          ],
          "name": "stdout"
        },
        {
          "output_type": "stream",
          "text": [
            "100%|██████████| 100/100 [00:47<00:00,  2.10it/s]\n"
          ],
          "name": "stderr"
        }
      ]
    },
    {
      "cell_type": "code",
      "metadata": {
        "id": "HMx8zcP-ZTdv"
      },
      "source": [
        "import matplotlib.pyplot as plt\n",
        "\n",
        "%matplotlib inline"
      ],
      "execution_count": null,
      "outputs": []
    },
    {
      "cell_type": "code",
      "metadata": {
        "id": "OePN8N2HmzeY",
        "colab": {
          "base_uri": "https://localhost:8080/",
          "height": 867
        },
        "outputId": "916c8f69-18d2-486d-ac61-d18a0fcb03c9"
      },
      "source": [
        "loss_list\n",
        "loss_content_list\n",
        "loss_style_list"
      ],
      "execution_count": null,
      "outputs": [
        {
          "output_type": "execute_result",
          "data": {
            "text/plain": [
              "[tensor(1058.2073, device='cuda:0'),\n",
              " tensor(904.6802, device='cuda:0'),\n",
              " tensor(695.1819, device='cuda:0'),\n",
              " tensor(662.3613, device='cuda:0'),\n",
              " tensor(569.1871, device='cuda:0'),\n",
              " tensor(589.0067, device='cuda:0'),\n",
              " tensor(507.3525, device='cuda:0'),\n",
              " tensor(471.9734, device='cuda:0'),\n",
              " tensor(477.1224, device='cuda:0'),\n",
              " tensor(445.2824, device='cuda:0'),\n",
              " tensor(414.9263, device='cuda:0'),\n",
              " tensor(447.2975, device='cuda:0'),\n",
              " tensor(392.5842, device='cuda:0'),\n",
              " tensor(369.3957, device='cuda:0'),\n",
              " tensor(369.0672, device='cuda:0'),\n",
              " tensor(353.9341, device='cuda:0'),\n",
              " tensor(358.7865, device='cuda:0'),\n",
              " tensor(351.0319, device='cuda:0'),\n",
              " tensor(354.1629, device='cuda:0'),\n",
              " tensor(347.1443, device='cuda:0'),\n",
              " tensor(335.1532, device='cuda:0'),\n",
              " tensor(333.5614, device='cuda:0'),\n",
              " tensor(318.6236, device='cuda:0'),\n",
              " tensor(312.6228, device='cuda:0'),\n",
              " tensor(330.0220, device='cuda:0'),\n",
              " tensor(297.8216, device='cuda:0'),\n",
              " tensor(311.8293, device='cuda:0'),\n",
              " tensor(303.6223, device='cuda:0'),\n",
              " tensor(281.6093, device='cuda:0'),\n",
              " tensor(294.2763, device='cuda:0'),\n",
              " tensor(295.4359, device='cuda:0'),\n",
              " tensor(280.0862, device='cuda:0'),\n",
              " tensor(287.3782, device='cuda:0'),\n",
              " tensor(277.8853, device='cuda:0'),\n",
              " tensor(272.8706, device='cuda:0'),\n",
              " tensor(277.3913, device='cuda:0'),\n",
              " tensor(263.3543, device='cuda:0'),\n",
              " tensor(267.2381, device='cuda:0'),\n",
              " tensor(274.8864, device='cuda:0'),\n",
              " tensor(271.9617, device='cuda:0'),\n",
              " tensor(264.9256, device='cuda:0'),\n",
              " tensor(268.4966, device='cuda:0'),\n",
              " tensor(268.4231, device='cuda:0'),\n",
              " tensor(264.1929, device='cuda:0'),\n",
              " tensor(258.6896, device='cuda:0'),\n",
              " tensor(259.5526, device='cuda:0'),\n",
              " tensor(252.8788, device='cuda:0'),\n",
              " tensor(252.9651, device='cuda:0'),\n",
              " tensor(256.7010, device='cuda:0'),\n",
              " tensor(250.1457, device='cuda:0')]"
            ]
          },
          "metadata": {
            "tags": []
          },
          "execution_count": 19
        }
      ]
    },
    {
      "cell_type": "code",
      "metadata": {
        "id": "r8hYMJQwm0zD",
        "colab": {
          "base_uri": "https://localhost:8080/",
          "height": 867
        },
        "outputId": "87a8c6c5-3e5f-41ca-ff9a-7d41e298f851"
      },
      "source": [
        "loss_style_list"
      ],
      "execution_count": null,
      "outputs": [
        {
          "output_type": "execute_result",
          "data": {
            "text/plain": [
              "[tensor(1058.2073, device='cuda:0'),\n",
              " tensor(904.6802, device='cuda:0'),\n",
              " tensor(695.1819, device='cuda:0'),\n",
              " tensor(662.3613, device='cuda:0'),\n",
              " tensor(569.1871, device='cuda:0'),\n",
              " tensor(589.0067, device='cuda:0'),\n",
              " tensor(507.3525, device='cuda:0'),\n",
              " tensor(471.9734, device='cuda:0'),\n",
              " tensor(477.1224, device='cuda:0'),\n",
              " tensor(445.2824, device='cuda:0'),\n",
              " tensor(414.9263, device='cuda:0'),\n",
              " tensor(447.2975, device='cuda:0'),\n",
              " tensor(392.5842, device='cuda:0'),\n",
              " tensor(369.3957, device='cuda:0'),\n",
              " tensor(369.0672, device='cuda:0'),\n",
              " tensor(353.9341, device='cuda:0'),\n",
              " tensor(358.7865, device='cuda:0'),\n",
              " tensor(351.0319, device='cuda:0'),\n",
              " tensor(354.1629, device='cuda:0'),\n",
              " tensor(347.1443, device='cuda:0'),\n",
              " tensor(335.1532, device='cuda:0'),\n",
              " tensor(333.5614, device='cuda:0'),\n",
              " tensor(318.6236, device='cuda:0'),\n",
              " tensor(312.6228, device='cuda:0'),\n",
              " tensor(330.0220, device='cuda:0'),\n",
              " tensor(297.8216, device='cuda:0'),\n",
              " tensor(311.8293, device='cuda:0'),\n",
              " tensor(303.6223, device='cuda:0'),\n",
              " tensor(281.6093, device='cuda:0'),\n",
              " tensor(294.2763, device='cuda:0'),\n",
              " tensor(295.4359, device='cuda:0'),\n",
              " tensor(280.0862, device='cuda:0'),\n",
              " tensor(287.3782, device='cuda:0'),\n",
              " tensor(277.8853, device='cuda:0'),\n",
              " tensor(272.8706, device='cuda:0'),\n",
              " tensor(277.3913, device='cuda:0'),\n",
              " tensor(263.3543, device='cuda:0'),\n",
              " tensor(267.2381, device='cuda:0'),\n",
              " tensor(274.8864, device='cuda:0'),\n",
              " tensor(271.9617, device='cuda:0'),\n",
              " tensor(264.9256, device='cuda:0'),\n",
              " tensor(268.4966, device='cuda:0'),\n",
              " tensor(268.4231, device='cuda:0'),\n",
              " tensor(264.1929, device='cuda:0'),\n",
              " tensor(258.6896, device='cuda:0'),\n",
              " tensor(259.5526, device='cuda:0'),\n",
              " tensor(252.8788, device='cuda:0'),\n",
              " tensor(252.9651, device='cuda:0'),\n",
              " tensor(256.7010, device='cuda:0'),\n",
              " tensor(250.1457, device='cuda:0')]"
            ]
          },
          "metadata": {
            "tags": []
          },
          "execution_count": 20
        }
      ]
    },
    {
      "cell_type": "code",
      "metadata": {
        "id": "tk11HkSamvHZ",
        "colab": {
          "base_uri": "https://localhost:8080/",
          "height": 463
        },
        "outputId": "d887bbe6-5eca-4635-c500-baf968ad9c5e"
      },
      "source": [
        "from matplotlib.backends.backend_pdf import PdfPages\n",
        "n_iters = list(range(2, 102, 2))\n",
        "\n",
        "with PdfPages('loss_plots.pdf') as pdf:\n",
        "  plt.figure(figsize=(20, 8),facecolor='white')\n",
        "  plt.plot(n_iters, loss_style_list, label = 'style loss', linestyle='-', \n",
        "            color='red',marker='o')\n",
        "  plt.plot(n_iters, loss_content_list, label = 'content loss', linestyle='-', \n",
        "            color='blue',marker='o')\n",
        "  plt.plot(n_iters, loss_list, label = 'total loss', linestyle='-', \n",
        "            color='green',marker='o')\n",
        "  plt.legend(prop={'size': 24})\n",
        "  # plt.xlabel('number of training iterations passed, 1000')\n",
        "  # plt.ylabel('loss value')\n",
        "  pdf.savefig(dpi=1200, bbox_inches=\"tight\")"
      ],
      "execution_count": null,
      "outputs": [
        {
          "output_type": "display_data",
          "data": {
            "image/png": "[encoded data removed]",
            "text/plain": [
              "<Figure size 1440x576 with 1 Axes>"
            ]
          },
          "metadata": {
            "tags": []
          }
        }
      ]
    },
    {
      "cell_type": "code",
      "metadata": {
        "id": "2DBcd6x0nIfY"
      },
      "source": [
        ""
      ],
      "execution_count": null,
      "outputs": []
    },
    {
      "cell_type": "markdown",
      "metadata": {
        "id": "gEmbEBRKRhDe"
      },
      "source": [
        "# New Section"
      ]
    }
  ]
}